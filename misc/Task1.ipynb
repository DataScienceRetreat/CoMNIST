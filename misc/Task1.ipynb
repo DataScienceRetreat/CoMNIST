{
 "cells": [
  {
   "cell_type": "code",
   "execution_count": 2,
   "metadata": {
    "collapsed": false
   },
   "outputs": [
    {
     "name": "stdout",
     "output_type": "stream",
     "text": [
      "Populating the interactive namespace from numpy and matplotlib\n"
     ]
    }
   ],
   "source": [
    "import pandas as pd\n",
    "import numpy as np\n",
    "\n",
    "import matplotlib.pyplot as plt\n",
    "import seaborn as sns\n",
    "\n",
    "from __future__ import division\n",
    "\n",
    "%pylab inline"
   ]
  },
  {
   "cell_type": "code",
   "execution_count": 3,
   "metadata": {
    "collapsed": false
   },
   "outputs": [
    {
     "name": "stdout",
     "output_type": "stream",
     "text": [
      "height has been deprecated.\n",
      "\n"
     ]
    }
   ],
   "source": [
    "pd.set_option('display.height', 1000)\n",
    "pd.set_option('display.max_rows', 100)\n",
    "pd.set_option('display.max_columns', 100)\n",
    "pd.set_option('display.width', 1000)"
   ]
  },
  {
   "cell_type": "code",
   "execution_count": 4,
   "metadata": {
    "collapsed": false
   },
   "outputs": [],
   "source": [
    "cols = pd.read_csv('columns.csv', sep=';').columns\n",
    "data = pd.read_csv('ds_interview_dataset.csv', sep = ';', header = None)\n",
    "data.columns = list(cols)"
   ]
  },
  {
   "cell_type": "code",
   "execution_count": 5,
   "metadata": {
    "collapsed": false
   },
   "outputs": [],
   "source": [
    "data['Date of birth'] = pd.to_datetime(data['Date of birth'])\n",
    "data['First purchase date'] = pd.to_datetime(data['First purchase date'])\n",
    "data['Date of purchase'] = pd.to_datetime(data['Date of purchase'])\n",
    "data['VIP'] = data['VIP'].map({'NO':0, 'YES':1})\n",
    "data['Promo Sign'] = data['Promo Sign'].map({'N':0, 'Y':1})\n",
    "data['Age'] = (data['Date of purchase']-data['Date of birth']).dt.days/365.25\n",
    "data['Age'] = data['Age'].fillna(0).astype(int)"
   ]
  },
  {
   "cell_type": "code",
   "execution_count": 6,
   "metadata": {
    "collapsed": true
   },
   "outputs": [],
   "source": [
    "def age_group(x):\n",
    "    if x < 14 or x > 69:\n",
    "        return 'na'\n",
    "    elif x>=14 and x<20:\n",
    "        return '14-19'\n",
    "    elif x>=20 and x<30:\n",
    "        return '20-29'\n",
    "    elif x>=30 and x<40:\n",
    "        return '30-39'\n",
    "    elif x>=40 and x<50:\n",
    "        return '40-49'\n",
    "    elif x>=50 and x <60:\n",
    "        return '50-59'\n",
    "    elif x>=60 and x<70:\n",
    "        return '60-69'"
   ]
  },
  {
   "cell_type": "code",
   "execution_count": 7,
   "metadata": {
    "collapsed": true
   },
   "outputs": [],
   "source": [
    "data['Age_Group'] = data['Age'].map(age_group)"
   ]
  },
  {
   "cell_type": "code",
   "execution_count": 8,
   "metadata": {
    "collapsed": false
   },
   "outputs": [],
   "source": [
    "data['YEAR_fst_purchase'] = data['First purchase date'].dt.year\n",
    "data['MONTH_fst_purchase'] = data['First purchase date'].dt.month\n",
    "data['LT'] = (data['Date of purchase'].dt.year-data['YEAR_fst_purchase'])*12 - data['MONTH_fst_purchase'] + data['Date of purchase'].dt.month"
   ]
  },
  {
   "cell_type": "code",
   "execution_count": 9,
   "metadata": {
    "collapsed": false
   },
   "outputs": [],
   "source": [
    "data['refund'] = (data['Revenue']<0)*1\n",
    "purchase = data[data.refund != 1] \n",
    "refund   = data[data.refund == 1]"
   ]
  },
  {
   "cell_type": "code",
   "execution_count": 10,
   "metadata": {
    "collapsed": true
   },
   "outputs": [],
   "source": [
    "year_agg_purchase = purchase.groupby('Customer ID')['Revenue'].agg({'sum', 'mean', 'count'})\n",
    "year_agg_purchase.columns = ['purchases', 'revenue', 'aov']\n",
    "\n",
    "year_agg_refund = refund.groupby('Customer ID')['Revenue'].agg({'sum', 'mean', 'count'})\n",
    "year_agg_refund.columns = ['refunds', 'refund_revenue', 'aov_refund']"
   ]
  },
  {
   "cell_type": "code",
   "execution_count": 11,
   "metadata": {
    "collapsed": true
   },
   "outputs": [],
   "source": [
    "### promo pivots"
   ]
  },
  {
   "cell_type": "code",
   "execution_count": 12,
   "metadata": {
    "collapsed": false
   },
   "outputs": [],
   "source": [
    "year_agg_purchase_promo = purchase.groupby(['Customer ID', 'Promo Sign'])['Revenue'].agg({'sum', 'mean', 'count'})\n",
    "year_agg_purchase_promo.columns = ['purchases', 'revenue', 'aov']\n",
    "\n",
    "purchase_promo_pivot = year_agg_purchase_promo.unstack().fillna(0)\n",
    "ind = pd.Index([str(e[0]) + \"_\" + 'promo_' + str(e[1])  for e in purchase_promo_pivot.columns.tolist()])\n",
    "purchase_promo_pivot.columns = ind\n",
    "\n",
    "year_agg_refund_promo = refund.groupby(['Customer ID', 'Promo Sign'])['Revenue'].agg({'sum', 'mean', 'count'})\n",
    "year_agg_refund_promo.columns = ['refunds', 'refund_revenue', 'aov_refund']\n",
    "\n",
    "refund_promo_pivot = year_agg_refund_promo.unstack().fillna(0)\n",
    "ind = pd.Index([str(e[0]) + \"_\" + 'promo_' + str(e[1])  for e in refund_promo_pivot.columns.tolist()])\n",
    "refund_promo_pivot.columns = ind"
   ]
  },
  {
   "cell_type": "code",
   "execution_count": 13,
   "metadata": {
    "collapsed": true
   },
   "outputs": [],
   "source": [
    "#### Channels pivot"
   ]
  },
  {
   "cell_type": "code",
   "execution_count": 14,
   "metadata": {
    "collapsed": true
   },
   "outputs": [],
   "source": [
    "year_agg_purchase_channel = purchase.groupby(['Customer ID', 'Sales Channel'])['Revenue'].agg({'sum', 'mean', 'count'})\n",
    "year_agg_purchase_channel.columns = ['purchases', 'revenue', 'aov']\n",
    "\n",
    "purchase_channel_pivot = year_agg_purchase_channel.unstack().fillna(0)\n",
    "ind = pd.Index([str(e[0]) + \"_\"  + str(e[1])  for e in purchase_channel_pivot.columns.tolist()])\n",
    "purchase_channel_pivot.columns = ind\n",
    "\n",
    "year_agg_refund_channel = refund.groupby(['Customer ID', 'Sales Channel'])['Revenue'].agg({'sum', 'mean', 'count'})\n",
    "year_agg_refund_channel.columns = ['refunds', 'refund_revenue', 'aov_refund']\n",
    "\n",
    "refund_channel_pivot = year_agg_refund_channel.unstack().fillna(0)\n",
    "ind = pd.Index([str(e[0]) + \"_\"  + str(e[1])  for e in refund_channel_pivot.columns.tolist()])\n",
    "refund_channel_pivot.columns = ind"
   ]
  },
  {
   "cell_type": "code",
   "execution_count": 15,
   "metadata": {
    "collapsed": true
   },
   "outputs": [],
   "source": [
    "#### product group pivot"
   ]
  },
  {
   "cell_type": "code",
   "execution_count": 16,
   "metadata": {
    "collapsed": true
   },
   "outputs": [],
   "source": [
    "year_agg_purchase_group = purchase.groupby(['Customer ID', 'Product Group'])['Revenue'].agg({'sum', 'mean', 'count'})\n",
    "year_agg_purchase_group.columns = ['purchases', 'revenue', 'aov']\n",
    "\n",
    "purchase_group_pivot = year_agg_purchase_group.unstack().fillna(0)\n",
    "ind = pd.Index([str(e[0]) + \"_\"  + str(e[1])  for e in purchase_group_pivot.columns.tolist()])\n",
    "purchase_group_pivot.columns = ind\n",
    "\n",
    "year_agg_refund_group = refund.groupby(['Customer ID', 'Product Group'])['Revenue'].agg({'sum', 'mean', 'count'})\n",
    "year_agg_refund_group.columns = ['refunds', 'refund_revenue', 'aov_refund']\n",
    "\n",
    "refund_group_pivot = year_agg_refund_group.unstack().fillna(0)\n",
    "ind = pd.Index([str(e[0]) + \"_\"  + str(e[1])  for e in refund_group_pivot.columns.tolist()])\n",
    "refund_group_pivot.columns = ind"
   ]
  },
  {
   "cell_type": "code",
   "execution_count": 17,
   "metadata": {
    "collapsed": true
   },
   "outputs": [],
   "source": [
    "### product gender"
   ]
  },
  {
   "cell_type": "code",
   "execution_count": 18,
   "metadata": {
    "collapsed": true
   },
   "outputs": [],
   "source": [
    "year_agg_purchase_gender = purchase.groupby(['Customer ID', 'Product Gender'])['Revenue'].agg({'sum', 'mean', 'count'})\n",
    "year_agg_purchase_gender.columns = ['purchases', 'revenue', 'aov']\n",
    "\n",
    "purchase_gender_pivot = year_agg_purchase_gender.unstack().fillna(0)\n",
    "ind = pd.Index([str(e[0]) + \"_\"  + str(e[1])  for e in purchase_gender_pivot.columns.tolist()])\n",
    "purchase_gender_pivot.columns = ind\n",
    "\n",
    "year_agg_refund_gender = refund.groupby(['Customer ID', 'Product Gender'])['Revenue'].agg({'sum', 'mean', 'count'})\n",
    "year_agg_refund_gender.columns = ['refunds', 'refund_revenue', 'aov_refund']\n",
    "\n",
    "refund_gender_pivot = year_agg_refund_gender.unstack().fillna(0)\n",
    "ind = pd.Index([str(e[0]) + \"_\"  + str(e[1])  for e in refund_gender_pivot.columns.tolist()])\n",
    "refund_gender_pivot.columns = ind"
   ]
  },
  {
   "cell_type": "code",
   "execution_count": 19,
   "metadata": {
    "collapsed": true
   },
   "outputs": [],
   "source": [
    "### payment method pivot"
   ]
  },
  {
   "cell_type": "code",
   "execution_count": 20,
   "metadata": {
    "collapsed": true
   },
   "outputs": [],
   "source": [
    "year_agg_purchase_method = purchase.groupby(['Customer ID', 'Payment Method'])['Revenue'].agg({'sum', 'mean', 'count'})\n",
    "year_agg_purchase_method.columns = ['purchases', 'revenue', 'aov']\n",
    "\n",
    "purchase_method_pivot = year_agg_purchase_method.unstack().fillna(0)\n",
    "ind = pd.Index([str(e[0]) + \"_\"  + str(e[1])  for e in purchase_method_pivot.columns.tolist()])\n",
    "purchase_method_pivot.columns = ind"
   ]
  },
  {
   "cell_type": "code",
   "execution_count": 21,
   "metadata": {
    "collapsed": true
   },
   "outputs": [],
   "source": [
    "# purchase_method_pivot"
   ]
  },
  {
   "cell_type": "code",
   "execution_count": 22,
   "metadata": {
    "collapsed": true
   },
   "outputs": [],
   "source": [
    "f = {'Age_Group':['last'], 'LT':['max'], 'VIP':['max']}\n",
    "clients = data.groupby(['Customer ID', 'Gender', 'Income Range']).agg(f)\n",
    "clients.reset_index(level=['Gender', 'Income Range'], inplace=True)\n",
    "clients.columns = clients.columns.droplevel(1)"
   ]
  },
  {
   "cell_type": "code",
   "execution_count": 23,
   "metadata": {
    "collapsed": false
   },
   "outputs": [],
   "source": [
    "clients_dummy = pd.get_dummies(clients)"
   ]
  },
  {
   "cell_type": "code",
   "execution_count": 24,
   "metadata": {
    "collapsed": true
   },
   "outputs": [],
   "source": [
    "def m(x,y):\n",
    "    return pd.merge(x, y, left_index=True, right_index=True, how='left').fillna(0)"
   ]
  },
  {
   "cell_type": "code",
   "execution_count": 25,
   "metadata": {
    "collapsed": true
   },
   "outputs": [],
   "source": [
    "df = m(m(clients_dummy,year_agg_purchase),year_agg_refund)\n",
    "df = m(m(df,purchase_promo_pivot),refund_promo_pivot)\n",
    "df = m(m(df,purchase_channel_pivot),refund_channel_pivot)\n",
    "df = m(m(df,purchase_group_pivot),refund_group_pivot)\n",
    "df = m(m(df,purchase_gender_pivot),refund_gender_pivot)\n",
    "df = m(df,purchase_method_pivot)"
   ]
  },
  {
   "cell_type": "code",
   "execution_count": 26,
   "metadata": {
    "collapsed": false
   },
   "outputs": [],
   "source": [
    "new_col = list(df.columns[:18]) + [x for x in df.columns if 'revenue' in x and 'refund' not in x]"
   ]
  },
  {
   "cell_type": "code",
   "execution_count": 27,
   "metadata": {
    "collapsed": true
   },
   "outputs": [],
   "source": [
    "df_new = df[new_col]"
   ]
  },
  {
   "cell_type": "code",
   "execution_count": 28,
   "metadata": {
    "collapsed": false
   },
   "outputs": [
    {
     "name": "stderr",
     "output_type": "stream",
     "text": [
      "/Users/imanyakhin/anaconda/lib/python2.7/site-packages/ipykernel/__main__.py:2: SettingWithCopyWarning: \n",
      "A value is trying to be set on a copy of a slice from a DataFrame.\n",
      "Try using .loc[row_indexer,col_indexer] = value instead\n",
      "\n",
      "See the caveats in the documentation: http://pandas.pydata.org/pandas-docs/stable/indexing.html#indexing-view-versus-copy\n",
      "  from ipykernel import kernelapp as app\n"
     ]
    }
   ],
   "source": [
    "for col in [x for x in df.columns if 'revenue_' in x and 'refund' not in x]:\n",
    "    df_new[col] = df_new[col] / df_new['revenue']"
   ]
  },
  {
   "cell_type": "code",
   "execution_count": 29,
   "metadata": {
    "collapsed": false,
    "scrolled": true
   },
   "outputs": [],
   "source": [
    "from sklearn import cluster"
   ]
  },
  {
   "cell_type": "code",
   "execution_count": 30,
   "metadata": {
    "collapsed": false
   },
   "outputs": [
    {
     "data": {
      "text/plain": [
       "KMeans(algorithm='auto', copy_x=True, init='k-means++', max_iter=300,\n",
       "    n_clusters=5, n_init=10, n_jobs=1, precompute_distances='auto',\n",
       "    random_state=None, tol=0.0001, verbose=0)"
      ]
     },
     "execution_count": 30,
     "metadata": {},
     "output_type": "execute_result"
    }
   ],
   "source": [
    "kMA = cluster.KMeans(n_clusters=5)\n",
    "kMA.fit(df_new[(df_new.Gender_UNDEFINED==0) & (df_new.purchases<23)].fillna(0))"
   ]
  },
  {
   "cell_type": "code",
   "execution_count": 31,
   "metadata": {
    "collapsed": true
   },
   "outputs": [],
   "source": [
    "pd.DataFrame(kMA.cluster_centers_, columns = df_new.columns).to_csv('all_5.csv', sep = ';', decimal = ',')"
   ]
  },
  {
   "cell_type": "code",
   "execution_count": 32,
   "metadata": {
    "collapsed": false
   },
   "outputs": [
    {
     "data": {
      "text/plain": [
       "(array([0, 1, 2, 3, 4], dtype=int32),\n",
       " array([1321601,  615561,   59919,    9807,  212942]))"
      ]
     },
     "execution_count": 32,
     "metadata": {},
     "output_type": "execute_result"
    }
   ],
   "source": [
    "np.unique(kMA.labels_, return_counts=True)"
   ]
  },
  {
   "cell_type": "code",
   "execution_count": 33,
   "metadata": {
    "collapsed": true
   },
   "outputs": [],
   "source": [
    "df_new = df_new[(df_new.Gender_UNDEFINED==0) & (df_new.purchases<23)]"
   ]
  },
  {
   "cell_type": "code",
   "execution_count": 34,
   "metadata": {
    "collapsed": true
   },
   "outputs": [],
   "source": [
    "df_new['segm'] = kMA.labels_"
   ]
  },
  {
   "cell_type": "code",
   "execution_count": 35,
   "metadata": {
    "collapsed": true
   },
   "outputs": [],
   "source": [
    "df_new = df_new[(df_new.segm==1)|(df_new.segm==2)|(df_new.segm==4)]"
   ]
  },
  {
   "cell_type": "code",
   "execution_count": 37,
   "metadata": {
    "collapsed": false
   },
   "outputs": [],
   "source": [
    "rev_col = [x for x in df_new.columns if 'revenue_' in x and 'refund' not in x]"
   ]
  },
  {
   "cell_type": "code",
   "execution_count": 38,
   "metadata": {
    "collapsed": true
   },
   "outputs": [],
   "source": [
    "rev_col = [x for x in rev_col if 'card' not in x and 'cash' not in x and 'gift' not in x]"
   ]
  },
  {
   "cell_type": "code",
   "execution_count": 39,
   "metadata": {
    "collapsed": false
   },
   "outputs": [
    {
     "data": {
      "text/plain": [
       "KMeans(algorithm='auto', copy_x=True, init='k-means++', max_iter=300,\n",
       "    n_clusters=10, n_init=10, n_jobs=1, precompute_distances='auto',\n",
       "    random_state=None, tol=0.0001, verbose=0)"
      ]
     },
     "execution_count": 39,
     "metadata": {},
     "output_type": "execute_result"
    }
   ],
   "source": [
    "kMR = cluster.KMeans(n_clusters=10)\n",
    "kMR.fit(df_new[rev_col].fillna(0))"
   ]
  },
  {
   "cell_type": "code",
   "execution_count": 40,
   "metadata": {
    "collapsed": true
   },
   "outputs": [],
   "source": [
    "pd.DataFrame(kMR.cluster_centers_, columns = rev_col).to_csv('kmr.csv', sep = ';', decimal = ',')"
   ]
  },
  {
   "cell_type": "code",
   "execution_count": 41,
   "metadata": {
    "collapsed": false
   },
   "outputs": [
    {
     "data": {
      "text/plain": [
       "(array([0, 1, 2, 3, 4, 5, 6, 7, 8, 9], dtype=int32),\n",
       " array([131035,  30704, 104790,  67324, 161577, 160883,  51546,  74499,\n",
       "         56733,  49331]))"
      ]
     },
     "execution_count": 41,
     "metadata": {},
     "output_type": "execute_result"
    }
   ],
   "source": [
    "np.unique(kMR.labels_, return_counts=True)"
   ]
  }
 ],
 "metadata": {
  "anaconda-cloud": {},
  "kernelspec": {
   "display_name": "Python [conda root]",
   "language": "python",
   "name": "conda-root-py"
  },
  "language_info": {
   "codemirror_mode": {
    "name": "ipython",
    "version": 2
   },
   "file_extension": ".py",
   "mimetype": "text/x-python",
   "name": "python",
   "nbconvert_exporter": "python",
   "pygments_lexer": "ipython2",
   "version": "2.7.12"
  }
 },
 "nbformat": 4,
 "nbformat_minor": 1
}
